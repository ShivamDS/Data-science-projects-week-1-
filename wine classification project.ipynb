{
 "cells": [
  {
   "cell_type": "code",
   "execution_count": 1,
   "metadata": {},
   "outputs": [],
   "source": [
    "import numpy as np\n",
    "import pandas as pd\n",
    "import matplotlib.pyplot as plt\n",
    "import seaborn as sns\n",
    "%matplotlib inline\n",
    "\n",
    "import warnings\n",
    "warnings.filterwarnings(\"ignore\")"
   ]
  },
  {
   "cell_type": "code",
   "execution_count": 2,
   "metadata": {},
   "outputs": [],
   "source": [
    "wine = pd.read_csv('datasets/wine/wine.csv')"
   ]
  },
  {
   "cell_type": "code",
   "execution_count": 3,
   "metadata": {},
   "outputs": [
    {
     "data": {
      "text/html": [
       "<div>\n",
       "<style scoped>\n",
       "    .dataframe tbody tr th:only-of-type {\n",
       "        vertical-align: middle;\n",
       "    }\n",
       "\n",
       "    .dataframe tbody tr th {\n",
       "        vertical-align: top;\n",
       "    }\n",
       "\n",
       "    .dataframe thead th {\n",
       "        text-align: right;\n",
       "    }\n",
       "</style>\n",
       "<table border=\"1\" class=\"dataframe\">\n",
       "  <thead>\n",
       "    <tr style=\"text-align: right;\">\n",
       "      <th></th>\n",
       "      <th>Class</th>\n",
       "      <th>Alcohol</th>\n",
       "      <th>Malic acid</th>\n",
       "      <th>Ash</th>\n",
       "      <th>Alcalinity of ash</th>\n",
       "      <th>Magnesium</th>\n",
       "      <th>Total phenols</th>\n",
       "      <th>Flavanoids</th>\n",
       "      <th>Nonflavanoid phenols</th>\n",
       "      <th>Proanthocyanins</th>\n",
       "      <th>Color intensity</th>\n",
       "      <th>Hue</th>\n",
       "      <th>diluted wines</th>\n",
       "      <th>Proline</th>\n",
       "    </tr>\n",
       "  </thead>\n",
       "  <tbody>\n",
       "    <tr>\n",
       "      <td>0</td>\n",
       "      <td>1</td>\n",
       "      <td>14.23</td>\n",
       "      <td>1.71</td>\n",
       "      <td>2.43</td>\n",
       "      <td>15.6</td>\n",
       "      <td>127</td>\n",
       "      <td>2.80</td>\n",
       "      <td>3.06</td>\n",
       "      <td>0.28</td>\n",
       "      <td>2.29</td>\n",
       "      <td>5.64</td>\n",
       "      <td>1.04</td>\n",
       "      <td>3.92</td>\n",
       "      <td>1065</td>\n",
       "    </tr>\n",
       "    <tr>\n",
       "      <td>1</td>\n",
       "      <td>1</td>\n",
       "      <td>13.20</td>\n",
       "      <td>1.78</td>\n",
       "      <td>2.14</td>\n",
       "      <td>11.2</td>\n",
       "      <td>100</td>\n",
       "      <td>2.65</td>\n",
       "      <td>2.76</td>\n",
       "      <td>0.26</td>\n",
       "      <td>1.28</td>\n",
       "      <td>4.38</td>\n",
       "      <td>1.05</td>\n",
       "      <td>3.40</td>\n",
       "      <td>1050</td>\n",
       "    </tr>\n",
       "    <tr>\n",
       "      <td>2</td>\n",
       "      <td>1</td>\n",
       "      <td>13.16</td>\n",
       "      <td>2.36</td>\n",
       "      <td>2.67</td>\n",
       "      <td>18.6</td>\n",
       "      <td>101</td>\n",
       "      <td>2.80</td>\n",
       "      <td>3.24</td>\n",
       "      <td>0.30</td>\n",
       "      <td>2.81</td>\n",
       "      <td>5.68</td>\n",
       "      <td>1.03</td>\n",
       "      <td>3.17</td>\n",
       "      <td>1185</td>\n",
       "    </tr>\n",
       "    <tr>\n",
       "      <td>3</td>\n",
       "      <td>1</td>\n",
       "      <td>14.37</td>\n",
       "      <td>1.95</td>\n",
       "      <td>2.50</td>\n",
       "      <td>16.8</td>\n",
       "      <td>113</td>\n",
       "      <td>3.85</td>\n",
       "      <td>3.49</td>\n",
       "      <td>0.24</td>\n",
       "      <td>2.18</td>\n",
       "      <td>7.80</td>\n",
       "      <td>0.86</td>\n",
       "      <td>3.45</td>\n",
       "      <td>1480</td>\n",
       "    </tr>\n",
       "    <tr>\n",
       "      <td>4</td>\n",
       "      <td>1</td>\n",
       "      <td>13.24</td>\n",
       "      <td>2.59</td>\n",
       "      <td>2.87</td>\n",
       "      <td>21.0</td>\n",
       "      <td>118</td>\n",
       "      <td>2.80</td>\n",
       "      <td>2.69</td>\n",
       "      <td>0.39</td>\n",
       "      <td>1.82</td>\n",
       "      <td>4.32</td>\n",
       "      <td>1.04</td>\n",
       "      <td>2.93</td>\n",
       "      <td>735</td>\n",
       "    </tr>\n",
       "  </tbody>\n",
       "</table>\n",
       "</div>"
      ],
      "text/plain": [
       "   Class  Alcohol  Malic acid   Ash  Alcalinity of ash  Magnesium  \\\n",
       "0      1    14.23        1.71  2.43               15.6        127   \n",
       "1      1    13.20        1.78  2.14               11.2        100   \n",
       "2      1    13.16        2.36  2.67               18.6        101   \n",
       "3      1    14.37        1.95  2.50               16.8        113   \n",
       "4      1    13.24        2.59  2.87               21.0        118   \n",
       "\n",
       "   Total phenols  Flavanoids  Nonflavanoid phenols  Proanthocyanins  \\\n",
       "0           2.80        3.06                  0.28             2.29   \n",
       "1           2.65        2.76                  0.26             1.28   \n",
       "2           2.80        3.24                  0.30             2.81   \n",
       "3           3.85        3.49                  0.24             2.18   \n",
       "4           2.80        2.69                  0.39             1.82   \n",
       "\n",
       "   Color intensity   Hue  diluted wines  Proline      \n",
       "0             5.64  1.04           3.92         1065  \n",
       "1             4.38  1.05           3.40         1050  \n",
       "2             5.68  1.03           3.17         1185  \n",
       "3             7.80  0.86           3.45         1480  \n",
       "4             4.32  1.04           2.93          735  "
      ]
     },
     "execution_count": 3,
     "metadata": {},
     "output_type": "execute_result"
    }
   ],
   "source": [
    "wine.head()"
   ]
  },
  {
   "cell_type": "code",
   "execution_count": 4,
   "metadata": {},
   "outputs": [
    {
     "data": {
      "text/html": [
       "<div>\n",
       "<style scoped>\n",
       "    .dataframe tbody tr th:only-of-type {\n",
       "        vertical-align: middle;\n",
       "    }\n",
       "\n",
       "    .dataframe tbody tr th {\n",
       "        vertical-align: top;\n",
       "    }\n",
       "\n",
       "    .dataframe thead th {\n",
       "        text-align: right;\n",
       "    }\n",
       "</style>\n",
       "<table border=\"1\" class=\"dataframe\">\n",
       "  <thead>\n",
       "    <tr style=\"text-align: right;\">\n",
       "      <th></th>\n",
       "      <th>Class</th>\n",
       "      <th>Alcohol</th>\n",
       "      <th>Malic acid</th>\n",
       "      <th>Ash</th>\n",
       "      <th>Alcalinity of ash</th>\n",
       "      <th>Magnesium</th>\n",
       "      <th>Total phenols</th>\n",
       "      <th>Flavanoids</th>\n",
       "      <th>Nonflavanoid phenols</th>\n",
       "      <th>Proanthocyanins</th>\n",
       "      <th>Color intensity</th>\n",
       "      <th>Hue</th>\n",
       "      <th>diluted wines</th>\n",
       "      <th>Proline</th>\n",
       "    </tr>\n",
       "  </thead>\n",
       "  <tbody>\n",
       "    <tr>\n",
       "      <td>count</td>\n",
       "      <td>178.000000</td>\n",
       "      <td>178.000000</td>\n",
       "      <td>178.000000</td>\n",
       "      <td>178.000000</td>\n",
       "      <td>178.000000</td>\n",
       "      <td>178.000000</td>\n",
       "      <td>178.000000</td>\n",
       "      <td>178.000000</td>\n",
       "      <td>178.000000</td>\n",
       "      <td>178.000000</td>\n",
       "      <td>178.000000</td>\n",
       "      <td>178.000000</td>\n",
       "      <td>178.000000</td>\n",
       "      <td>178.000000</td>\n",
       "    </tr>\n",
       "    <tr>\n",
       "      <td>mean</td>\n",
       "      <td>1.938202</td>\n",
       "      <td>13.000618</td>\n",
       "      <td>2.336348</td>\n",
       "      <td>2.366517</td>\n",
       "      <td>19.494944</td>\n",
       "      <td>99.741573</td>\n",
       "      <td>2.295112</td>\n",
       "      <td>2.029270</td>\n",
       "      <td>0.361854</td>\n",
       "      <td>1.590899</td>\n",
       "      <td>5.058090</td>\n",
       "      <td>0.957449</td>\n",
       "      <td>2.611685</td>\n",
       "      <td>746.893258</td>\n",
       "    </tr>\n",
       "    <tr>\n",
       "      <td>std</td>\n",
       "      <td>0.775035</td>\n",
       "      <td>0.811827</td>\n",
       "      <td>1.117146</td>\n",
       "      <td>0.274344</td>\n",
       "      <td>3.339564</td>\n",
       "      <td>14.282484</td>\n",
       "      <td>0.625851</td>\n",
       "      <td>0.998859</td>\n",
       "      <td>0.124453</td>\n",
       "      <td>0.572359</td>\n",
       "      <td>2.318286</td>\n",
       "      <td>0.228572</td>\n",
       "      <td>0.709990</td>\n",
       "      <td>314.907474</td>\n",
       "    </tr>\n",
       "    <tr>\n",
       "      <td>min</td>\n",
       "      <td>1.000000</td>\n",
       "      <td>11.030000</td>\n",
       "      <td>0.740000</td>\n",
       "      <td>1.360000</td>\n",
       "      <td>10.600000</td>\n",
       "      <td>70.000000</td>\n",
       "      <td>0.980000</td>\n",
       "      <td>0.340000</td>\n",
       "      <td>0.130000</td>\n",
       "      <td>0.410000</td>\n",
       "      <td>1.280000</td>\n",
       "      <td>0.480000</td>\n",
       "      <td>1.270000</td>\n",
       "      <td>278.000000</td>\n",
       "    </tr>\n",
       "    <tr>\n",
       "      <td>25%</td>\n",
       "      <td>1.000000</td>\n",
       "      <td>12.362500</td>\n",
       "      <td>1.602500</td>\n",
       "      <td>2.210000</td>\n",
       "      <td>17.200000</td>\n",
       "      <td>88.000000</td>\n",
       "      <td>1.742500</td>\n",
       "      <td>1.205000</td>\n",
       "      <td>0.270000</td>\n",
       "      <td>1.250000</td>\n",
       "      <td>3.220000</td>\n",
       "      <td>0.782500</td>\n",
       "      <td>1.937500</td>\n",
       "      <td>500.500000</td>\n",
       "    </tr>\n",
       "    <tr>\n",
       "      <td>50%</td>\n",
       "      <td>2.000000</td>\n",
       "      <td>13.050000</td>\n",
       "      <td>1.865000</td>\n",
       "      <td>2.360000</td>\n",
       "      <td>19.500000</td>\n",
       "      <td>98.000000</td>\n",
       "      <td>2.355000</td>\n",
       "      <td>2.135000</td>\n",
       "      <td>0.340000</td>\n",
       "      <td>1.555000</td>\n",
       "      <td>4.690000</td>\n",
       "      <td>0.965000</td>\n",
       "      <td>2.780000</td>\n",
       "      <td>673.500000</td>\n",
       "    </tr>\n",
       "    <tr>\n",
       "      <td>75%</td>\n",
       "      <td>3.000000</td>\n",
       "      <td>13.677500</td>\n",
       "      <td>3.082500</td>\n",
       "      <td>2.557500</td>\n",
       "      <td>21.500000</td>\n",
       "      <td>107.000000</td>\n",
       "      <td>2.800000</td>\n",
       "      <td>2.875000</td>\n",
       "      <td>0.437500</td>\n",
       "      <td>1.950000</td>\n",
       "      <td>6.200000</td>\n",
       "      <td>1.120000</td>\n",
       "      <td>3.170000</td>\n",
       "      <td>985.000000</td>\n",
       "    </tr>\n",
       "    <tr>\n",
       "      <td>max</td>\n",
       "      <td>3.000000</td>\n",
       "      <td>14.830000</td>\n",
       "      <td>5.800000</td>\n",
       "      <td>3.230000</td>\n",
       "      <td>30.000000</td>\n",
       "      <td>162.000000</td>\n",
       "      <td>3.880000</td>\n",
       "      <td>5.080000</td>\n",
       "      <td>0.660000</td>\n",
       "      <td>3.580000</td>\n",
       "      <td>13.000000</td>\n",
       "      <td>1.710000</td>\n",
       "      <td>4.000000</td>\n",
       "      <td>1680.000000</td>\n",
       "    </tr>\n",
       "  </tbody>\n",
       "</table>\n",
       "</div>"
      ],
      "text/plain": [
       "            Class     Alcohol  Malic acid         Ash  Alcalinity of ash  \\\n",
       "count  178.000000  178.000000  178.000000  178.000000         178.000000   \n",
       "mean     1.938202   13.000618    2.336348    2.366517          19.494944   \n",
       "std      0.775035    0.811827    1.117146    0.274344           3.339564   \n",
       "min      1.000000   11.030000    0.740000    1.360000          10.600000   \n",
       "25%      1.000000   12.362500    1.602500    2.210000          17.200000   \n",
       "50%      2.000000   13.050000    1.865000    2.360000          19.500000   \n",
       "75%      3.000000   13.677500    3.082500    2.557500          21.500000   \n",
       "max      3.000000   14.830000    5.800000    3.230000          30.000000   \n",
       "\n",
       "        Magnesium  Total phenols  Flavanoids  Nonflavanoid phenols  \\\n",
       "count  178.000000     178.000000  178.000000            178.000000   \n",
       "mean    99.741573       2.295112    2.029270              0.361854   \n",
       "std     14.282484       0.625851    0.998859              0.124453   \n",
       "min     70.000000       0.980000    0.340000              0.130000   \n",
       "25%     88.000000       1.742500    1.205000              0.270000   \n",
       "50%     98.000000       2.355000    2.135000              0.340000   \n",
       "75%    107.000000       2.800000    2.875000              0.437500   \n",
       "max    162.000000       3.880000    5.080000              0.660000   \n",
       "\n",
       "       Proanthocyanins  Color intensity         Hue  diluted wines  \\\n",
       "count       178.000000       178.000000  178.000000     178.000000   \n",
       "mean          1.590899         5.058090    0.957449       2.611685   \n",
       "std           0.572359         2.318286    0.228572       0.709990   \n",
       "min           0.410000         1.280000    0.480000       1.270000   \n",
       "25%           1.250000         3.220000    0.782500       1.937500   \n",
       "50%           1.555000         4.690000    0.965000       2.780000   \n",
       "75%           1.950000         6.200000    1.120000       3.170000   \n",
       "max           3.580000        13.000000    1.710000       4.000000   \n",
       "\n",
       "       Proline      \n",
       "count   178.000000  \n",
       "mean    746.893258  \n",
       "std     314.907474  \n",
       "min     278.000000  \n",
       "25%     500.500000  \n",
       "50%     673.500000  \n",
       "75%     985.000000  \n",
       "max    1680.000000  "
      ]
     },
     "execution_count": 4,
     "metadata": {},
     "output_type": "execute_result"
    }
   ],
   "source": [
    "wine.describe()"
   ]
  },
  {
   "cell_type": "code",
   "execution_count": 5,
   "metadata": {},
   "outputs": [
    {
     "data": {
      "text/plain": [
       "<matplotlib.axes._subplots.AxesSubplot at 0xbbdf8d0>"
      ]
     },
     "execution_count": 5,
     "metadata": {},
     "output_type": "execute_result"
    },
    {
     "data": {
      "image/png": "[encoded data removed]",
      "text/plain": [
       "<Figure size 432x288 with 1 Axes>"
      ]
     },
     "metadata": {
      "needs_background": "light"
     },
     "output_type": "display_data"
    }
   ],
   "source": [
    "sns.distplot(wine['Class'], kde=False)"
   ]
  },
  {
   "cell_type": "code",
   "execution_count": 6,
   "metadata": {},
   "outputs": [
    {
     "name": "stdout",
     "output_type": "stream",
     "text": [
      "<class 'pandas.core.frame.DataFrame'>\n",
      "RangeIndex: 178 entries, 0 to 177\n",
      "Data columns (total 14 columns):\n",
      "Class                   178 non-null int64\n",
      "Alcohol                 178 non-null float64\n",
      "Malic acid              178 non-null float64\n",
      "Ash                     178 non-null float64\n",
      "Alcalinity of ash       178 non-null float64\n",
      "Magnesium               178 non-null int64\n",
      "Total phenols           178 non-null float64\n",
      "Flavanoids              178 non-null float64\n",
      "Nonflavanoid phenols    178 non-null float64\n",
      "Proanthocyanins         178 non-null float64\n",
      "Color intensity         178 non-null float64\n",
      "Hue                     178 non-null float64\n",
      "diluted wines           178 non-null float64\n",
      "Proline                 178 non-null int64\n",
      "dtypes: float64(11), int64(3)\n",
      "memory usage: 19.5 KB\n"
     ]
    }
   ],
   "source": [
    "wine.info()"
   ]
  },
  {
   "cell_type": "code",
   "execution_count": 7,
   "metadata": {},
   "outputs": [
    {
     "data": {
      "text/plain": [
       "Class                   0\n",
       "Alcohol                 0\n",
       "Malic acid              0\n",
       "Ash                     0\n",
       "Alcalinity of ash       0\n",
       "Magnesium               0\n",
       "Total phenols           0\n",
       "Flavanoids              0\n",
       "Nonflavanoid phenols    0\n",
       "Proanthocyanins         0\n",
       "Color intensity         0\n",
       "Hue                     0\n",
       "diluted wines           0\n",
       "Proline                 0\n",
       "dtype: int64"
      ]
     },
     "execution_count": 7,
     "metadata": {},
     "output_type": "execute_result"
    }
   ],
   "source": [
    "wine.isnull().sum()"
   ]
  },
  {
   "cell_type": "code",
   "execution_count": 8,
   "metadata": {},
   "outputs": [],
   "source": [
    "#sns.pairplot(wine)"
   ]
  },
  {
   "cell_type": "code",
   "execution_count": null,
   "metadata": {},
   "outputs": [],
   "source": []
  },
  {
   "cell_type": "code",
   "execution_count": null,
   "metadata": {},
   "outputs": [],
   "source": []
  },
  {
   "cell_type": "code",
   "execution_count": 9,
   "metadata": {},
   "outputs": [
    {
     "data": {
      "text/plain": [
       "<matplotlib.axes._subplots.AxesSubplot at 0xbeeee30>"
      ]
     },
     "execution_count": 9,
     "metadata": {},
     "output_type": "execute_result"
    },
    {
     "data": {
      "image/png": "[encoded data removed]",
      "text/plain": [
       "<Figure size 720x576 with 2 Axes>"
      ]
     },
     "metadata": {
      "needs_background": "light"
     },
     "output_type": "display_data"
    }
   ],
   "source": [
    "plt.figure(figsize=(10,8))\n",
    "sns.heatmap(wine.corr(), cmap='coolwarm', annot=True)"
   ]
  },
  {
   "cell_type": "code",
   "execution_count": null,
   "metadata": {},
   "outputs": [],
   "source": []
  },
  {
   "cell_type": "code",
   "execution_count": null,
   "metadata": {},
   "outputs": [],
   "source": []
  },
  {
   "cell_type": "code",
   "execution_count": 10,
   "metadata": {},
   "outputs": [
    {
     "data": {
      "text/plain": [
       "Class                   0.107431\n",
       "Alcohol                -0.051482\n",
       "Malic acid              1.039651\n",
       "Ash                    -0.176699\n",
       "Alcalinity of ash       0.213047\n",
       "Magnesium               1.098191\n",
       "Total phenols           0.086639\n",
       "Flavanoids              0.025344\n",
       "Nonflavanoid phenols    0.450151\n",
       "Proanthocyanins         0.517137\n",
       "Color intensity         0.868585\n",
       "Hue                     0.021091\n",
       "diluted wines          -0.307285\n",
       "Proline                 0.767822\n",
       "dtype: float64"
      ]
     },
     "execution_count": 10,
     "metadata": {},
     "output_type": "execute_result"
    }
   ],
   "source": [
    "wine.skew()"
   ]
  },
  {
   "cell_type": "code",
   "execution_count": null,
   "metadata": {},
   "outputs": [],
   "source": []
  },
  {
   "cell_type": "code",
   "execution_count": 11,
   "metadata": {},
   "outputs": [
    {
     "data": {
      "text/plain": [
       "array([1, 2, 3], dtype=int64)"
      ]
     },
     "execution_count": 11,
     "metadata": {},
     "output_type": "execute_result"
    }
   ],
   "source": [
    "wine['Class'].unique()"
   ]
  },
  {
   "cell_type": "code",
   "execution_count": null,
   "metadata": {},
   "outputs": [],
   "source": []
  },
  {
   "cell_type": "code",
   "execution_count": 12,
   "metadata": {},
   "outputs": [],
   "source": [
    "from sklearn.linear_model import LogisticRegression"
   ]
  },
  {
   "cell_type": "code",
   "execution_count": 13,
   "metadata": {},
   "outputs": [],
   "source": [
    "X = wine.drop(['Class'], axis=1)\n",
    "y = wine['Class']"
   ]
  },
  {
   "cell_type": "code",
   "execution_count": 14,
   "metadata": {},
   "outputs": [],
   "source": [
    "from sklearn.model_selection import train_test_split\n",
    "from sklearn.metrics import r2_score"
   ]
  },
  {
   "cell_type": "code",
   "execution_count": 15,
   "metadata": {},
   "outputs": [
    {
     "name": "stdout",
     "output_type": "stream",
     "text": [
      "r2 score for random state of 42 is 1.0\n",
      "r2 score for random state of 43 is 0.9728506787330317\n",
      "r2 score for random state of 44 is 0.9350961538461539\n",
      "r2 score for random state of 45 is 0.9159751037344398\n",
      "r2 score for random state of 46 is 0.8670769230769231\n",
      "r2 score for random state of 47 is 0.9138755980861244\n",
      "r2 score for random state of 48 is 0.9703296703296703\n",
      "r2 score for random state of 49 is 0.9246336357292393\n",
      "r2 score for random state of 50 is 0.935445307830245\n",
      "r2 score for random state of 51 is 0.8477157360406091\n",
      "r2 score for random state of 52 is 0.9318181818181818\n",
      "r2 score for random state of 53 is 0.905373831775701\n",
      "r2 score for random state of 54 is 0.9142403388035998\n",
      "r2 score for random state of 55 is 0.9672528805336568\n",
      "r2 score for random state of 56 is 0.9192221391174271\n",
      "r2 score for random state of 57 is 1.0\n",
      "r2 score for random state of 58 is 0.8329207920792079\n",
      "r2 score for random state of 59 is 0.9712918660287081\n",
      "r2 score for random state of 60 is 0.9373549883990719\n",
      "r2 score for random state of 61 is 0.9696799550814149\n",
      "r2 score for random state of 62 is 0.8747099767981439\n",
      "r2 score for random state of 63 is 0.9004914004914005\n",
      "r2 score for random state of 64 is 0.9710455764075067\n",
      "r2 score for random state of 65 is 0.8959537572254335\n",
      "r2 score for random state of 66 is 0.9318181818181818\n",
      "r2 score for random state of 67 is 1.0\n",
      "r2 score for random state of 68 is 0.97\n",
      "r2 score for random state of 69 is 0.8378378378378378\n",
      "r2 score for random state of 70 is 0.9120043454644214\n",
      "r2 score for random state of 71 is 0.9425837320574163\n",
      "r2 score for random state of 72 is 0.9150943396226415\n",
      "r2 score for random state of 73 is 0.9115720524017468\n",
      "r2 score for random state of 74 is 0.9445869676757311\n",
      "r2 score for random state of 75 is 0.9425837320574163\n",
      "r2 score for random state of 76 is 0.905373831775701\n",
      "r2 score for random state of 77 is 0.9428268925357332\n",
      "r2 score for random state of 78 is 0.8702702702702703\n",
      "r2 score for random state of 79 is 0.9665841584158416\n",
      "r2 score for random state of 80 is 0.9138755980861244\n",
      "r2 score for random state of 81 is 0.9466666666666667\n",
      "r2 score for random state of 82 is 0.8205980066445183\n",
      "r2 score for random state of 83 is 0.9605263157894737\n",
      "r2 score for random state of 84 is 0.97\n",
      "r2 score for random state of 85 is 0.8708906156604901\n",
      "r2 score for random state of 86 is 0.899002493765586\n",
      "r2 score for random state of 87 is 0.9433962264150944\n",
      "r2 score for random state of 88 is 0.9674894641782059\n",
      "r2 score for random state of 89 is 0.8738317757009346\n",
      "r2 score for random state of 90 is 0.8738317757009346\n",
      "r2 score for random state of 91 is 0.9652956298200515\n",
      "r2 score for random state of 92 is 0.8747099767981439\n",
      "r2 score for random state of 93 is 0.9031679617453676\n",
      "r2 score for random state of 94 is 0.8433874709976799\n",
      "r2 score for random state of 95 is 0.8681855166802278\n",
      "r2 score for random state of 96 is 0.968677494199536\n",
      "r2 score for random state of 97 is 0.8841823056300269\n",
      "r2 score for random state of 98 is 0.9644736842105263\n",
      "r2 score for random state of 99 is 0.875\n",
      "r2 score for random state of 100 is 0.9413362303096143\n",
      "r2 score for random state of 101 is 0.9361702127659575\n",
      "max r2 score for random state of 42 is 1.0\n"
     ]
    }
   ],
   "source": [
    "b = 0\n",
    "c = 0\n",
    "\n",
    "for i in range(42,102):\n",
    "    ran=i\n",
    "    X_train, X_test, y_train, y_test = train_test_split(X, y, test_size=0.3, random_state=ran)\n",
    "    lw = LogisticRegression()\n",
    "    lw.fit(X_train, y_train)\n",
    "    pred = lw.predict(X_test)\n",
    "    a = r2_score(y_test, pred)\n",
    "    print(f'r2 score for random state of {ran} is {a}')\n",
    "    \n",
    "    if a>b:\n",
    "        b = a\n",
    "        c=ran\n",
    "print(f'max r2 score for random state of {c} is {b}')"
   ]
  },
  {
   "cell_type": "code",
   "execution_count": 16,
   "metadata": {},
   "outputs": [],
   "source": [
    "from sklearn.metrics import classification_report, confusion_matrix"
   ]
  },
  {
   "cell_type": "code",
   "execution_count": 17,
   "metadata": {},
   "outputs": [
    {
     "name": "stdout",
     "output_type": "stream",
     "text": [
      "              precision    recall  f1-score   support\n",
      "\n",
      "           1       1.00      0.95      0.97        19\n",
      "           2       0.95      0.95      0.95        22\n",
      "           3       0.93      1.00      0.96        13\n",
      "\n",
      "    accuracy                           0.96        54\n",
      "   macro avg       0.96      0.97      0.96        54\n",
      "weighted avg       0.96      0.96      0.96        54\n",
      "\n",
      "[[18  1  0]\n",
      " [ 0 21  1]\n",
      " [ 0  0 13]]\n"
     ]
    }
   ],
   "source": [
    "print(classification_report(y_test, pred))\n",
    "print(confusion_matrix(y_test, pred))"
   ]
  },
  {
   "cell_type": "code",
   "execution_count": 35,
   "metadata": {},
   "outputs": [
    {
     "data": {
      "text/plain": [
       "0.9360443692423388"
      ]
     },
     "execution_count": 35,
     "metadata": {},
     "output_type": "execute_result"
    }
   ],
   "source": [
    "from sklearn.model_selection import cross_val_score\n",
    "cross_val_score(LogisticRegression(),X,y,cv=5,scoring='r2').mean()"
   ]
  },
  {
   "cell_type": "code",
   "execution_count": 18,
   "metadata": {},
   "outputs": [],
   "source": [
    "#boosting accuracy"
   ]
  },
  {
   "cell_type": "code",
   "execution_count": null,
   "metadata": {},
   "outputs": [],
   "source": []
  },
  {
   "cell_type": "code",
   "execution_count": 19,
   "metadata": {},
   "outputs": [
    {
     "name": "stdout",
     "output_type": "stream",
     "text": [
      "Fitting 5 folds for each of 16 candidates, totalling 80 fits\n",
      "[CV] learning_rate=0.001, n_estimators=10 ............................\n",
      "[CV] ............. learning_rate=0.001, n_estimators=10, total=   0.0s\n",
      "[CV] learning_rate=0.001, n_estimators=10 ............................\n",
      "[CV] ............. learning_rate=0.001, n_estimators=10, total=   0.0s\n",
      "[CV] learning_rate=0.001, n_estimators=10 ............................\n",
      "[CV] ............. learning_rate=0.001, n_estimators=10, total=   0.0s\n",
      "[CV] learning_rate=0.001, n_estimators=10 ............................\n",
      "[CV] ............. learning_rate=0.001, n_estimators=10, total=   0.0s\n",
      "[CV] learning_rate=0.001, n_estimators=10 ............................\n",
      "[CV] ............. learning_rate=0.001, n_estimators=10, total=   0.0s\n",
      "[CV] learning_rate=0.001, n_estimators=100 ...........................\n"
     ]
    },
    {
     "name": "stderr",
     "output_type": "stream",
     "text": [
      "[Parallel(n_jobs=1)]: Using backend SequentialBackend with 1 concurrent workers.\n",
      "[Parallel(n_jobs=1)]: Done   1 out of   1 | elapsed:    0.0s remaining:    0.0s\n"
     ]
    },
    {
     "name": "stdout",
     "output_type": "stream",
     "text": [
      "[CV] ............ learning_rate=0.001, n_estimators=100, total=   0.3s\n",
      "[CV] learning_rate=0.001, n_estimators=100 ...........................\n",
      "[CV] ............ learning_rate=0.001, n_estimators=100, total=   0.3s\n",
      "[CV] learning_rate=0.001, n_estimators=100 ...........................\n",
      "[CV] ............ learning_rate=0.001, n_estimators=100, total=   0.3s\n",
      "[CV] learning_rate=0.001, n_estimators=100 ...........................\n",
      "[CV] ............ learning_rate=0.001, n_estimators=100, total=   0.4s\n",
      "[CV] learning_rate=0.001, n_estimators=100 ...........................\n",
      "[CV] ............ learning_rate=0.001, n_estimators=100, total=   0.4s\n",
      "[CV] learning_rate=0.001, n_estimators=500 ...........................\n",
      "[CV] ............ learning_rate=0.001, n_estimators=500, total=   1.5s\n",
      "[CV] learning_rate=0.001, n_estimators=500 ...........................\n",
      "[CV] ............ learning_rate=0.001, n_estimators=500, total=   1.3s\n",
      "[CV] learning_rate=0.001, n_estimators=500 ...........................\n",
      "[CV] ............ learning_rate=0.001, n_estimators=500, total=   1.3s\n",
      "[CV] learning_rate=0.001, n_estimators=500 ...........................\n",
      "[CV] ............ learning_rate=0.001, n_estimators=500, total=   1.3s\n",
      "[CV] learning_rate=0.001, n_estimators=500 ...........................\n",
      "[CV] ............ learning_rate=0.001, n_estimators=500, total=   1.3s\n",
      "[CV] learning_rate=0.001, n_estimators=1000 ..........................\n",
      "[CV] ........... learning_rate=0.001, n_estimators=1000, total=   2.7s\n",
      "[CV] learning_rate=0.001, n_estimators=1000 ..........................\n",
      "[CV] ........... learning_rate=0.001, n_estimators=1000, total=   2.5s\n",
      "[CV] learning_rate=0.001, n_estimators=1000 ..........................\n",
      "[CV] ........... learning_rate=0.001, n_estimators=1000, total=   2.4s\n",
      "[CV] learning_rate=0.001, n_estimators=1000 ..........................\n",
      "[CV] ........... learning_rate=0.001, n_estimators=1000, total=   3.2s\n",
      "[CV] learning_rate=0.001, n_estimators=1000 ..........................\n",
      "[CV] ........... learning_rate=0.001, n_estimators=1000, total=   3.2s\n",
      "[CV] learning_rate=0.01, n_estimators=10 .............................\n",
      "[CV] .............. learning_rate=0.01, n_estimators=10, total=   0.0s\n",
      "[CV] learning_rate=0.01, n_estimators=10 .............................\n",
      "[CV] .............. learning_rate=0.01, n_estimators=10, total=   0.0s\n",
      "[CV] learning_rate=0.01, n_estimators=10 .............................\n",
      "[CV] .............. learning_rate=0.01, n_estimators=10, total=   0.0s\n",
      "[CV] learning_rate=0.01, n_estimators=10 .............................\n",
      "[CV] .............. learning_rate=0.01, n_estimators=10, total=   0.0s\n",
      "[CV] learning_rate=0.01, n_estimators=10 .............................\n",
      "[CV] .............. learning_rate=0.01, n_estimators=10, total=   0.0s\n",
      "[CV] learning_rate=0.01, n_estimators=100 ............................\n",
      "[CV] ............. learning_rate=0.01, n_estimators=100, total=   0.4s\n",
      "[CV] learning_rate=0.01, n_estimators=100 ............................\n",
      "[CV] ............. learning_rate=0.01, n_estimators=100, total=   0.3s\n",
      "[CV] learning_rate=0.01, n_estimators=100 ............................\n",
      "[CV] ............. learning_rate=0.01, n_estimators=100, total=   0.4s\n",
      "[CV] learning_rate=0.01, n_estimators=100 ............................\n",
      "[CV] ............. learning_rate=0.01, n_estimators=100, total=   0.3s\n",
      "[CV] learning_rate=0.01, n_estimators=100 ............................\n",
      "[CV] ............. learning_rate=0.01, n_estimators=100, total=   0.3s\n",
      "[CV] learning_rate=0.01, n_estimators=500 ............................\n",
      "[CV] ............. learning_rate=0.01, n_estimators=500, total=   1.3s\n",
      "[CV] learning_rate=0.01, n_estimators=500 ............................\n",
      "[CV] ............. learning_rate=0.01, n_estimators=500, total=   1.5s\n",
      "[CV] learning_rate=0.01, n_estimators=500 ............................\n",
      "[CV] ............. learning_rate=0.01, n_estimators=500, total=   1.4s\n",
      "[CV] learning_rate=0.01, n_estimators=500 ............................\n",
      "[CV] ............. learning_rate=0.01, n_estimators=500, total=   1.2s\n",
      "[CV] learning_rate=0.01, n_estimators=500 ............................\n",
      "[CV] ............. learning_rate=0.01, n_estimators=500, total=   1.5s\n",
      "[CV] learning_rate=0.01, n_estimators=1000 ...........................\n",
      "[CV] ............ learning_rate=0.01, n_estimators=1000, total=   2.8s\n",
      "[CV] learning_rate=0.01, n_estimators=1000 ...........................\n",
      "[CV] ............ learning_rate=0.01, n_estimators=1000, total=   2.0s\n",
      "[CV] learning_rate=0.01, n_estimators=1000 ...........................\n",
      "[CV] ............ learning_rate=0.01, n_estimators=1000, total=   2.4s\n",
      "[CV] learning_rate=0.01, n_estimators=1000 ...........................\n",
      "[CV] ............ learning_rate=0.01, n_estimators=1000, total=   1.9s\n",
      "[CV] learning_rate=0.01, n_estimators=1000 ...........................\n",
      "[CV] ............ learning_rate=0.01, n_estimators=1000, total=   2.1s\n",
      "[CV] learning_rate=0.1, n_estimators=10 ..............................\n",
      "[CV] ............... learning_rate=0.1, n_estimators=10, total=   0.0s\n",
      "[CV] learning_rate=0.1, n_estimators=10 ..............................\n",
      "[CV] ............... learning_rate=0.1, n_estimators=10, total=   0.0s\n",
      "[CV] learning_rate=0.1, n_estimators=10 ..............................\n",
      "[CV] ............... learning_rate=0.1, n_estimators=10, total=   0.0s\n",
      "[CV] learning_rate=0.1, n_estimators=10 ..............................\n",
      "[CV] ............... learning_rate=0.1, n_estimators=10, total=   0.0s\n",
      "[CV] learning_rate=0.1, n_estimators=10 ..............................\n",
      "[CV] ............... learning_rate=0.1, n_estimators=10, total=   0.0s\n",
      "[CV] learning_rate=0.1, n_estimators=100 .............................\n",
      "[CV] .............. learning_rate=0.1, n_estimators=100, total=   0.2s\n",
      "[CV] learning_rate=0.1, n_estimators=100 .............................\n",
      "[CV] .............. learning_rate=0.1, n_estimators=100, total=   0.2s\n",
      "[CV] learning_rate=0.1, n_estimators=100 .............................\n",
      "[CV] .............. learning_rate=0.1, n_estimators=100, total=   0.2s\n",
      "[CV] learning_rate=0.1, n_estimators=100 .............................\n",
      "[CV] .............. learning_rate=0.1, n_estimators=100, total=   0.2s\n",
      "[CV] learning_rate=0.1, n_estimators=100 .............................\n",
      "[CV] .............. learning_rate=0.1, n_estimators=100, total=   0.2s\n",
      "[CV] learning_rate=0.1, n_estimators=500 .............................\n",
      "[CV] .............. learning_rate=0.1, n_estimators=500, total=   0.8s\n",
      "[CV] learning_rate=0.1, n_estimators=500 .............................\n",
      "[CV] .............. learning_rate=0.1, n_estimators=500, total=   0.8s\n",
      "[CV] learning_rate=0.1, n_estimators=500 .............................\n",
      "[CV] .............. learning_rate=0.1, n_estimators=500, total=   0.8s\n",
      "[CV] learning_rate=0.1, n_estimators=500 .............................\n",
      "[CV] .............. learning_rate=0.1, n_estimators=500, total=   0.8s\n",
      "[CV] learning_rate=0.1, n_estimators=500 .............................\n",
      "[CV] .............. learning_rate=0.1, n_estimators=500, total=   0.8s\n",
      "[CV] learning_rate=0.1, n_estimators=1000 ............................\n",
      "[CV] ............. learning_rate=0.1, n_estimators=1000, total=   1.6s\n",
      "[CV] learning_rate=0.1, n_estimators=1000 ............................\n",
      "[CV] ............. learning_rate=0.1, n_estimators=1000, total=   1.6s\n",
      "[CV] learning_rate=0.1, n_estimators=1000 ............................\n",
      "[CV] ............. learning_rate=0.1, n_estimators=1000, total=   1.6s\n",
      "[CV] learning_rate=0.1, n_estimators=1000 ............................\n",
      "[CV] ............. learning_rate=0.1, n_estimators=1000, total=   1.9s\n",
      "[CV] learning_rate=0.1, n_estimators=1000 ............................\n",
      "[CV] ............. learning_rate=0.1, n_estimators=1000, total=   1.5s\n",
      "[CV] learning_rate=1, n_estimators=10 ................................\n",
      "[CV] ................. learning_rate=1, n_estimators=10, total=   0.0s\n",
      "[CV] learning_rate=1, n_estimators=10 ................................\n",
      "[CV] ................. learning_rate=1, n_estimators=10, total=   0.0s\n",
      "[CV] learning_rate=1, n_estimators=10 ................................\n",
      "[CV] ................. learning_rate=1, n_estimators=10, total=   0.0s\n",
      "[CV] learning_rate=1, n_estimators=10 ................................\n",
      "[CV] ................. learning_rate=1, n_estimators=10, total=   0.0s\n",
      "[CV] learning_rate=1, n_estimators=10 ................................\n",
      "[CV] ................. learning_rate=1, n_estimators=10, total=   0.0s\n",
      "[CV] learning_rate=1, n_estimators=100 ...............................\n"
     ]
    },
    {
     "name": "stdout",
     "output_type": "stream",
     "text": [
      "[CV] ................ learning_rate=1, n_estimators=100, total=   0.2s\n",
      "[CV] learning_rate=1, n_estimators=100 ...............................\n",
      "[CV] ................ learning_rate=1, n_estimators=100, total=   0.2s\n",
      "[CV] learning_rate=1, n_estimators=100 ...............................\n",
      "[CV] ................ learning_rate=1, n_estimators=100, total=   0.1s\n",
      "[CV] learning_rate=1, n_estimators=100 ...............................\n",
      "[CV] ................ learning_rate=1, n_estimators=100, total=   0.1s\n",
      "[CV] learning_rate=1, n_estimators=100 ...............................\n",
      "[CV] ................ learning_rate=1, n_estimators=100, total=   0.2s\n",
      "[CV] learning_rate=1, n_estimators=500 ...............................\n",
      "[CV] ................ learning_rate=1, n_estimators=500, total=   0.9s\n",
      "[CV] learning_rate=1, n_estimators=500 ...............................\n",
      "[CV] ................ learning_rate=1, n_estimators=500, total=   0.8s\n",
      "[CV] learning_rate=1, n_estimators=500 ...............................\n",
      "[CV] ................ learning_rate=1, n_estimators=500, total=   0.8s\n",
      "[CV] learning_rate=1, n_estimators=500 ...............................\n",
      "[CV] ................ learning_rate=1, n_estimators=500, total=   0.7s\n",
      "[CV] learning_rate=1, n_estimators=500 ...............................\n",
      "[CV] ................ learning_rate=1, n_estimators=500, total=   0.8s\n",
      "[CV] learning_rate=1, n_estimators=1000 ..............................\n",
      "[CV] ............... learning_rate=1, n_estimators=1000, total=   1.7s\n",
      "[CV] learning_rate=1, n_estimators=1000 ..............................\n",
      "[CV] ............... learning_rate=1, n_estimators=1000, total=   1.4s\n",
      "[CV] learning_rate=1, n_estimators=1000 ..............................\n",
      "[CV] ............... learning_rate=1, n_estimators=1000, total=   1.5s\n",
      "[CV] learning_rate=1, n_estimators=1000 ..............................\n",
      "[CV] ............... learning_rate=1, n_estimators=1000, total=   1.7s\n",
      "[CV] learning_rate=1, n_estimators=1000 ..............................\n",
      "[CV] ............... learning_rate=1, n_estimators=1000, total=   1.4s\n"
     ]
    },
    {
     "name": "stderr",
     "output_type": "stream",
     "text": [
      "[Parallel(n_jobs=1)]: Done  80 out of  80 | elapsed:  1.1min finished\n",
      "C:\\ProgramData\\Anaconda3\\lib\\site-packages\\sklearn\\model_selection\\_search.py:813: DeprecationWarning: The default of the `iid` parameter will change from True to False in version 0.22 and will be removed in 0.24. This will change numeric results when test-set sizes are unequal.\n",
      "  DeprecationWarning)\n"
     ]
    },
    {
     "data": {
      "text/plain": [
       "GridSearchCV(cv=5, error_score='raise-deprecating',\n",
       "             estimator=GradientBoostingClassifier(criterion='friedman_mse',\n",
       "                                                  init=None, learning_rate=0.1,\n",
       "                                                  loss='deviance', max_depth=3,\n",
       "                                                  max_features=None,\n",
       "                                                  max_leaf_nodes=None,\n",
       "                                                  min_impurity_decrease=0.0,\n",
       "                                                  min_impurity_split=None,\n",
       "                                                  min_samples_leaf=1,\n",
       "                                                  min_samples_split=2,\n",
       "                                                  min_weight_fraction_leaf=0.0,\n",
       "                                                  n_estimators=100,\n",
       "                                                  n_iter_no_change=None,\n",
       "                                                  presort='auto',\n",
       "                                                  random_state=None,\n",
       "                                                  subsample=1.0, tol=0.0001,\n",
       "                                                  validation_fraction=0.1,\n",
       "                                                  verbose=0, warm_start=False),\n",
       "             iid='warn', n_jobs=None,\n",
       "             param_grid={'learning_rate': [0.001, 0.01, 0.1, 1],\n",
       "                         'n_estimators': [10, 100, 500, 1000]},\n",
       "             pre_dispatch='2*n_jobs', refit=True, return_train_score=False,\n",
       "             scoring=None, verbose=2)"
      ]
     },
     "execution_count": 19,
     "metadata": {},
     "output_type": "execute_result"
    }
   ],
   "source": [
    "from sklearn.model_selection import GridSearchCV\n",
    "from sklearn.ensemble import GradientBoostingClassifier\n",
    "\n",
    "gbr = GradientBoostingClassifier()\n",
    "param_grid = {'n_estimators':[10,100,500,1000], 'learning_rate':[0.001,0.01,0.1,1]}\n",
    "grid = GridSearchCV(gbr, param_grid, cv=5, refit=True, verbose=2)\n",
    "grid.fit(X_train,y_train)"
   ]
  },
  {
   "cell_type": "code",
   "execution_count": 20,
   "metadata": {},
   "outputs": [],
   "source": [
    "grid_predictions = grid.predict(X_test)"
   ]
  },
  {
   "cell_type": "code",
   "execution_count": 21,
   "metadata": {},
   "outputs": [
    {
     "name": "stdout",
     "output_type": "stream",
     "text": [
      "[[19  0  0]\n",
      " [ 4 16  2]\n",
      " [ 0  0 13]]\n"
     ]
    }
   ],
   "source": [
    "print(confusion_matrix(y_test,grid_predictions))"
   ]
  },
  {
   "cell_type": "code",
   "execution_count": 22,
   "metadata": {},
   "outputs": [
    {
     "name": "stdout",
     "output_type": "stream",
     "text": [
      "              precision    recall  f1-score   support\n",
      "\n",
      "           1       0.83      1.00      0.90        19\n",
      "           2       1.00      0.73      0.84        22\n",
      "           3       0.87      1.00      0.93        13\n",
      "\n",
      "    accuracy                           0.89        54\n",
      "   macro avg       0.90      0.91      0.89        54\n",
      "weighted avg       0.91      0.89      0.88        54\n",
      "\n"
     ]
    }
   ],
   "source": [
    "print(classification_report(y_test,grid_predictions))"
   ]
  },
  {
   "cell_type": "code",
   "execution_count": 25,
   "metadata": {},
   "outputs": [
    {
     "name": "stdout",
     "output_type": "stream",
     "text": [
      "{'learning_rate': 1, 'n_estimators': 10}\n"
     ]
    }
   ],
   "source": [
    "print(grid.best_params_)"
   ]
  },
  {
   "cell_type": "code",
   "execution_count": null,
   "metadata": {},
   "outputs": [],
   "source": []
  },
  {
   "cell_type": "code",
   "execution_count": 36,
   "metadata": {},
   "outputs": [
    {
     "name": "stderr",
     "output_type": "stream",
     "text": [
      "C:\\ProgramData\\Anaconda3\\lib\\site-packages\\sklearn\\externals\\joblib\\__init__.py:15: DeprecationWarning: sklearn.externals.joblib is deprecated in 0.21 and will be removed in 0.23. Please import this functionality directly from joblib, which can be installed with: pip install joblib. If this warning is raised when loading pickled models, you may need to re-serialize those models with scikit-learn 0.21+.\n",
      "  warnings.warn(msg, category=DeprecationWarning)\n"
     ]
    },
    {
     "data": {
      "text/plain": [
       "['lw_wine.pkl']"
      ]
     },
     "execution_count": 36,
     "metadata": {},
     "output_type": "execute_result"
    }
   ],
   "source": [
    "#saving model\n",
    "from sklearn.externals import joblib\n",
    "joblib.dump(lw, 'lw_wine.pkl')"
   ]
  },
  {
   "cell_type": "code",
   "execution_count": null,
   "metadata": {},
   "outputs": [],
   "source": []
  },
  {
   "cell_type": "code",
   "execution_count": null,
   "metadata": {},
   "outputs": [],
   "source": []
  }
 ],
 "metadata": {
  "kernelspec": {
   "display_name": "Python 3",
   "language": "python",
   "name": "python3"
  },
  "language_info": {
   "codemirror_mode": {
    "name": "ipython",
    "version": 3
   },
   "file_extension": ".py",
   "mimetype": "text/x-python",
   "name": "python",
   "nbconvert_exporter": "python",
   "pygments_lexer": "ipython3",
   "version": "3.7.4"
  }
 },
 "nbformat": 4,
 "nbformat_minor": 2
}
